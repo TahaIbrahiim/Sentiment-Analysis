{
 "cells": [
  {
   "cell_type": "markdown",
   "metadata": {
    "id": "3DS5CiEHbfio"
   },
   "source": [
    "# <font color='orange'>***1. Download dependencies***</font>"
   ]
  },
  {
   "cell_type": "code",
   "execution_count": null,
   "metadata": {},
   "outputs": [],
   "source": [
    "'''!pip install opendatasets"
   ]
  },
  {
   "cell_type": "code",
   "execution_count": null,
   "metadata": {},
   "outputs": [],
   "source": [
    "'''import opendatasets as od\n",
    "\n",
    "od.download(\n",
    "    \"https://www.kaggle.com/datasets/lakshmi25npathi/imdb-dataset-of-50k-movie-reviews\")'''"
   ]
  },
  {
   "cell_type": "code",
   "execution_count": 2,
   "metadata": {
    "colab": {
     "base_uri": "https://localhost:8080/"
    },
    "id": "jZokJoClbfir",
    "outputId": "2e73556c-162a-4d15-c5b2-0b280e0312ff"
   },
   "outputs": [
    {
     "name": "stdout",
     "output_type": "stream",
     "text": [
      "Collecting package metadata (current_repodata.json): - DEBUG:urllib3.connectionpool:Starting new HTTPS connection (1): repo.anaconda.com:443\n",
      "DEBUG:urllib3.connectionpool:Starting new HTTPS connection (1): repo.anaconda.com:443\n",
      "DEBUG:urllib3.connectionpool:Starting new HTTPS connection (1): repo.anaconda.com:443\n",
      "DEBUG:urllib3.connectionpool:Starting new HTTPS connection (1): repo.anaconda.com:443\n",
      "| DEBUG:urllib3.connectionpool:https://repo.anaconda.com:443 \"GET /pkgs/main/noarch/current_repodata.json HTTP/1.1\" 304 0\n",
      "DEBUG:urllib3.connectionpool:https://repo.anaconda.com:443 \"GET /pkgs/main/osx-arm64/current_repodata.json HTTP/1.1\" 304 0\n",
      "DEBUG:urllib3.connectionpool:https://repo.anaconda.com:443 \"GET /pkgs/r/noarch/current_repodata.json HTTP/1.1\" 304 0\n",
      "DEBUG:urllib3.connectionpool:https://repo.anaconda.com:443 \"GET /pkgs/r/osx-arm64/current_repodata.json HTTP/1.1\" 304 0\n",
      "done\n",
      "Solving environment: unsuccessful initial attempt using frozen solve. Retrying with flexible solve.\n",
      "Collecting package metadata (repodata.json): \\ DEBUG:urllib3.connectionpool:Starting new HTTPS connection (1): repo.anaconda.com:443\n",
      "DEBUG:urllib3.connectionpool:Starting new HTTPS connection (1): repo.anaconda.com:443\n",
      "DEBUG:urllib3.connectionpool:Starting new HTTPS connection (1): repo.anaconda.com:443\n",
      "DEBUG:urllib3.connectionpool:Starting new HTTPS connection (1): repo.anaconda.com:443\n",
      "/ DEBUG:urllib3.connectionpool:https://repo.anaconda.com:443 \"GET /pkgs/r/osx-arm64/repodata.json HTTP/1.1\" 304 0\n",
      "- DEBUG:urllib3.connectionpool:https://repo.anaconda.com:443 \"GET /pkgs/r/noarch/repodata.json HTTP/1.1\" 304 0\n",
      "DEBUG:urllib3.connectionpool:https://repo.anaconda.com:443 \"GET /pkgs/main/osx-arm64/repodata.json HTTP/1.1\" 304 0\n",
      "DEBUG:urllib3.connectionpool:https://repo.anaconda.com:443 \"GET /pkgs/main/noarch/repodata.json HTTP/1.1\" 304 0\n",
      "done\n",
      "Solving environment: unsuccessful initial attempt using frozen solve. Retrying with flexible solve.\n",
      "\n",
      "PackagesNotFoundError: The following packages are not available from current channels:\n",
      "\n",
      "  - contractions\n",
      "\n",
      "Current channels:\n",
      "\n",
      "  - https://repo.anaconda.com/pkgs/main/osx-arm64\n",
      "  - https://repo.anaconda.com/pkgs/main/noarch\n",
      "  - https://repo.anaconda.com/pkgs/r/osx-arm64\n",
      "  - https://repo.anaconda.com/pkgs/r/noarch\n",
      "  - https://conda.anaconda.org/conda-forge/osx-arm64\n",
      "  - https://conda.anaconda.org/conda-forge/noarch\n",
      "\n",
      "To search for alternate channels that may provide the conda package you're\n",
      "looking for, navigate to\n",
      "\n",
      "    https://anaconda.org\n",
      "\n",
      "and use the search bar at the top of the page.\n",
      "\n",
      "\n",
      "\n",
      "Note: you may need to restart the kernel to use updated packages.\n"
     ]
    }
   ],
   "source": [
    "'''!pip install contractions'''"
   ]
  },
  {
   "cell_type": "code",
   "execution_count": 6,
   "metadata": {
    "id": "-11hLkztbfit"
   },
   "outputs": [],
   "source": [
    "import nltk"
   ]
  },
  {
   "cell_type": "code",
   "execution_count": 7,
   "metadata": {
    "colab": {
     "base_uri": "https://localhost:8080/"
    },
    "id": "jP8oMX-lyQS8",
    "outputId": "35d0e3cb-1cd0-4d6e-a8d9-08d19ea24ebf"
   },
   "outputs": [
    {
     "name": "stderr",
     "output_type": "stream",
     "text": [
      "[nltk_data] Downloading package stopwords to /Users/mac/nltk_data...\n",
      "[nltk_data]   Package stopwords is already up-to-date!\n",
      "[nltk_data] Downloading package wordnet to /Users/mac/nltk_data...\n",
      "[nltk_data]   Package wordnet is already up-to-date!\n",
      "[nltk_data] Downloading package punkt to /Users/mac/nltk_data...\n",
      "[nltk_data]   Package punkt is already up-to-date!\n",
      "[nltk_data] Downloading package averaged_perceptron_tagger to\n",
      "[nltk_data]     /Users/mac/nltk_data...\n",
      "[nltk_data]   Unzipping taggers/averaged_perceptron_tagger.zip.\n"
     ]
    },
    {
     "data": {
      "text/plain": [
       "True"
      ]
     },
     "execution_count": 7,
     "metadata": {},
     "output_type": "execute_result"
    }
   ],
   "source": [
    "nltk.download('stopwords')\n",
    "nltk.download('wordnet')\n",
    "nltk.download('punkt')\n",
    "nltk.download('averaged_perceptron_tagger')"
   ]
  },
  {
   "cell_type": "markdown",
   "metadata": {
    "id": "wMgq2ToWbfiu"
   },
   "source": [
    "# <font color='orange'>***2. Import necessary libraries***</font>"
   ]
  },
  {
   "cell_type": "code",
   "execution_count": 21,
   "metadata": {
    "id": "D7M4t6wybfiu"
   },
   "outputs": [],
   "source": [
    "import pandas as pd\n",
    "import numpy as np\n",
    "import matplotlib.pyplot as plt\n",
    "import contractions\n",
    "import re\n",
    "from nltk.corpus import stopwords\n",
    "from nltk.tokenize import word_tokenize\n",
    "from nltk import pos_tag\n",
    "from nltk.corpus import wordnet\n",
    "from nltk.stem import WordNetLemmatizer\n",
    "from sklearn.preprocessing import LabelEncoder\n",
    "from collections import Counter\n",
    "from sklearn.feature_extraction.text import TfidfVectorizer\n",
    "from sklearn.model_selection import train_test_split\n",
    "from sklearn.metrics import accuracy_score\n",
    "from sklearn.preprocessing import StandardScaler\n",
    "from sklearn.neighbors import KNeighborsClassifier\n",
    "from sklearn.neighbors import KDTree\n",
    "from sklearn.neighbors import RadiusNeighborsClassifier\n",
    "from sklearn.neighbors import KernelDensity\n"
   ]
  },
  {
   "cell_type": "markdown",
   "metadata": {
    "id": "GGNvQn_Zbfiu"
   },
   "source": [
    "# <font color='orange'>***3. Read the dataset***</font>"
   ]
  },
  {
   "cell_type": "code",
   "execution_count": null,
   "metadata": {},
   "outputs": [],
   "source": [
    "'''# The datset directory\n",
    "dataset_path = '/content/imdb-dataset-of-50k-movie-reviews/IMDB Dataset.csv'\n",
    "# Read the dataset in DataFrame\n",
    "dataset_df = pd.read_csv(dataset_path)\n",
    "# Show Random sample of data\n",
    "dataset_df'''"
   ]
  },
  {
   "cell_type": "code",
   "execution_count": 41,
   "metadata": {
    "colab": {
     "base_uri": "https://localhost:8080/",
     "height": 419
    },
    "id": "fgZ8STs8bfiv",
    "outputId": "7a7e2781-0b05-463a-d698-c52dbeca664d"
   },
   "outputs": [
    {
     "data": {
      "text/html": [
       "<div>\n",
       "<style scoped>\n",
       "    .dataframe tbody tr th:only-of-type {\n",
       "        vertical-align: middle;\n",
       "    }\n",
       "\n",
       "    .dataframe tbody tr th {\n",
       "        vertical-align: top;\n",
       "    }\n",
       "\n",
       "    .dataframe thead th {\n",
       "        text-align: right;\n",
       "    }\n",
       "</style>\n",
       "<table border=\"1\" class=\"dataframe\">\n",
       "  <thead>\n",
       "    <tr style=\"text-align: right;\">\n",
       "      <th></th>\n",
       "      <th>Unnamed: 0</th>\n",
       "      <th>review</th>\n",
       "      <th>sentiment</th>\n",
       "    </tr>\n",
       "  </thead>\n",
       "  <tbody>\n",
       "    <tr>\n",
       "      <th>0</th>\n",
       "      <td>0</td>\n",
       "      <td>one reviewer mention watch oz episode hook rig...</td>\n",
       "      <td>1</td>\n",
       "    </tr>\n",
       "    <tr>\n",
       "      <th>1</th>\n",
       "      <td>1</td>\n",
       "      <td>wonderful little production br br film techniq...</td>\n",
       "      <td>1</td>\n",
       "    </tr>\n",
       "    <tr>\n",
       "      <th>2</th>\n",
       "      <td>2</td>\n",
       "      <td>think wonderful way spend time hot summer week...</td>\n",
       "      <td>1</td>\n",
       "    </tr>\n",
       "    <tr>\n",
       "      <th>3</th>\n",
       "      <td>3</td>\n",
       "      <td>basically family little boy jake think zombie ...</td>\n",
       "      <td>0</td>\n",
       "    </tr>\n",
       "    <tr>\n",
       "      <th>4</th>\n",
       "      <td>4</td>\n",
       "      <td>petter mattei love time money visually stunnin...</td>\n",
       "      <td>1</td>\n",
       "    </tr>\n",
       "    <tr>\n",
       "      <th>...</th>\n",
       "      <td>...</td>\n",
       "      <td>...</td>\n",
       "      <td>...</td>\n",
       "    </tr>\n",
       "    <tr>\n",
       "      <th>49571</th>\n",
       "      <td>49571</td>\n",
       "      <td>think movie right good job creative original f...</td>\n",
       "      <td>1</td>\n",
       "    </tr>\n",
       "    <tr>\n",
       "      <th>49572</th>\n",
       "      <td>49572</td>\n",
       "      <td>bad plot bad dialogue bad acting idiotic direc...</td>\n",
       "      <td>0</td>\n",
       "    </tr>\n",
       "    <tr>\n",
       "      <th>49573</th>\n",
       "      <td>49573</td>\n",
       "      <td>catholic teach parochial elementary school nun...</td>\n",
       "      <td>0</td>\n",
       "    </tr>\n",
       "    <tr>\n",
       "      <th>49574</th>\n",
       "      <td>49574</td>\n",
       "      <td>go disagree previous comment side maltin one s...</td>\n",
       "      <td>0</td>\n",
       "    </tr>\n",
       "    <tr>\n",
       "      <th>49575</th>\n",
       "      <td>49575</td>\n",
       "      <td>one expect star trek movie high art fan expect...</td>\n",
       "      <td>0</td>\n",
       "    </tr>\n",
       "  </tbody>\n",
       "</table>\n",
       "<p>49576 rows × 3 columns</p>\n",
       "</div>"
      ],
      "text/plain": [
       "       Unnamed: 0                                             review  \\\n",
       "0               0  one reviewer mention watch oz episode hook rig...   \n",
       "1               1  wonderful little production br br film techniq...   \n",
       "2               2  think wonderful way spend time hot summer week...   \n",
       "3               3  basically family little boy jake think zombie ...   \n",
       "4               4  petter mattei love time money visually stunnin...   \n",
       "...           ...                                                ...   \n",
       "49571       49571  think movie right good job creative original f...   \n",
       "49572       49572  bad plot bad dialogue bad acting idiotic direc...   \n",
       "49573       49573  catholic teach parochial elementary school nun...   \n",
       "49574       49574  go disagree previous comment side maltin one s...   \n",
       "49575       49575  one expect star trek movie high art fan expect...   \n",
       "\n",
       "       sentiment  \n",
       "0              1  \n",
       "1              1  \n",
       "2              1  \n",
       "3              0  \n",
       "4              1  \n",
       "...          ...  \n",
       "49571          1  \n",
       "49572          0  \n",
       "49573          0  \n",
       "49574          0  \n",
       "49575          0  \n",
       "\n",
       "[49576 rows x 3 columns]"
      ]
     },
     "execution_count": 41,
     "metadata": {},
     "output_type": "execute_result"
    }
   ],
   "source": [
    "proc_dateset= pd.read_csv('Processes-dataset.csv')\n",
    "# Show Random sample of data\n",
    "proc_dateset"
   ]
  },
  {
   "cell_type": "code",
   "execution_count": 42,
   "metadata": {
    "colab": {
     "base_uri": "https://localhost:8080/"
    },
    "id": "FJTWv5lkbfiv",
    "outputId": "7cfd9850-6a74-40ac-c390-3856b6f286e1"
   },
   "outputs": [
    {
     "name": "stdout",
     "output_type": "stream",
     "text": [
      "<class 'pandas.core.frame.DataFrame'>\n",
      "RangeIndex: 49576 entries, 0 to 49575\n",
      "Data columns (total 3 columns):\n",
      " #   Column      Non-Null Count  Dtype \n",
      "---  ------      --------------  ----- \n",
      " 0   Unnamed: 0  49576 non-null  int64 \n",
      " 1   review      49576 non-null  object\n",
      " 2   sentiment   49576 non-null  int64 \n",
      "dtypes: int64(2), object(1)\n",
      "memory usage: 1.1+ MB\n"
     ]
    }
   ],
   "source": [
    "proc_dateset.info()"
   ]
  },
  {
   "cell_type": "code",
   "execution_count": 96,
   "metadata": {
    "colab": {
     "base_uri": "https://localhost:8080/",
     "height": 419
    },
    "id": "Ze1Phmo3FMiV",
    "outputId": "3735e143-25f1-4e50-fc48-9ac2a9152791"
   },
   "outputs": [
    {
     "data": {
      "text/plain": [
       "(7000, 3)"
      ]
     },
     "execution_count": 96,
     "metadata": {},
     "output_type": "execute_result"
    }
   ],
   "source": [
    "proc_dateset = proc_dateset.iloc[0:15000]\n",
    "proc_dateset.shape"
   ]
  },
  {
   "cell_type": "markdown",
   "metadata": {
    "id": "ixKGls3cbfiw"
   },
   "source": [
    "# <font color='orange'>***4. Cleaning and preprocessing***</font>"
   ]
  },
  {
   "cell_type": "code",
   "execution_count": 49,
   "metadata": {
    "id": "M3bk7KPsbfiw"
   },
   "outputs": [],
   "source": [
    "# Remove nan entries\n",
    "proc_dateset= proc_dateset.dropna()\n",
    "# Remove duplications in reviews and their coresponding sentiment\n",
    "proc_dateset = proc_dateset.drop_duplicates(subset=['review'])\n",
    "# Reste the indicies\n",
    "proc_dateset.reset_index(drop=True, inplace=True)"
   ]
  },
  {
   "cell_type": "code",
   "execution_count": 50,
   "metadata": {
    "colab": {
     "base_uri": "https://localhost:8080/"
    },
    "id": "uXOXQJvCbfiw",
    "outputId": "ca2ce906-f6fe-46b3-8e5d-956c98069b4c"
   },
   "outputs": [
    {
     "name": "stdout",
     "output_type": "stream",
     "text": [
      "<class 'pandas.core.frame.DataFrame'>\n",
      "RangeIndex: 7000 entries, 0 to 6999\n",
      "Data columns (total 3 columns):\n",
      " #   Column      Non-Null Count  Dtype \n",
      "---  ------      --------------  ----- \n",
      " 0   Unnamed: 0  7000 non-null   int64 \n",
      " 1   review      7000 non-null   object\n",
      " 2   sentiment   7000 non-null   int64 \n",
      "dtypes: int64(2), object(1)\n",
      "memory usage: 164.2+ KB\n"
     ]
    }
   ],
   "source": [
    "proc_dateset.info()"
   ]
  },
  {
   "cell_type": "markdown",
   "metadata": {
    "id": "okQ5i3Uhbfix"
   },
   "source": [
    "**Text Cleaning**"
   ]
  },
  {
   "cell_type": "code",
   "execution_count": 51,
   "metadata": {
    "id": "1Wu05oJkbfix"
   },
   "outputs": [],
   "source": [
    "# Get english stop words (most frequent)\n",
    "stop_words = stopwords.words('english')\n",
    "# Get WordNetLemmatizer to get the context of words\n",
    "lemmatizer = WordNetLemmatizer()"
   ]
  },
  {
   "cell_type": "code",
   "execution_count": 52,
   "metadata": {
    "id": "UQFltrABbfix"
   },
   "outputs": [],
   "source": [
    "# Expand contractions for better Text interpretations and stop words removal\n",
    "def expand_contractions(text):\n",
    "    # creating an empty list\n",
    "    expanded_words1 = []\n",
    "    for word in text.split():\n",
    "      # using contractions.fix to expand the shortened words\n",
    "      expanded_words1.append(contractions.fix(word))\n",
    "\n",
    "    text = ' '.join(expanded_words1)\n",
    "\n",
    "    contractions_dict = {\n",
    "        \"'m\": \" am\",\n",
    "        \"'s\": \" is\",\n",
    "        \"'re\": \" are\",\n",
    "        \"'ve\": \" have\",\n",
    "        \"'ll\": \" will\",\n",
    "        \"'d\": \" would\",\n",
    "    }\n",
    "\n",
    "    # Case-insensitive flag for the regular expression\n",
    "    pattern = re.compile(r\"\\b(\" + \"|\".join(re.escape(key) for key in contractions_dict.keys()) + r\")\\b\", re.IGNORECASE)\n",
    "\n",
    "    # Replace contractions with their expanded forms\n",
    "    expanded_text = pattern.sub(lambda match: contractions_dict[match.group(0).lower()], text)\n",
    "\n",
    "    return expanded_text"
   ]
  },
  {
   "cell_type": "code",
   "execution_count": 53,
   "metadata": {
    "colab": {
     "base_uri": "https://localhost:8080/"
    },
    "id": "wMlFiYKsbfiy",
    "outputId": "a6dc2590-69c0-433a-c996-162f4c1a9b93"
   },
   "outputs": [
    {
     "name": "stdout",
     "output_type": "stream",
     "text": [
      "Original Text:  \n",
      "Yahya's playing football.I haven't seen Mary, but I'm sure she'll be at the party.\n",
      "She's not the only one who won't come.\n",
      "They're going to the store, aren't they?. Yahya ain't good boy\n",
      "\n",
      "\n",
      "Expanded text:\n",
      " Yahya is playing football.I have not seen Mary, but I am sure she will be at the party. She is not the only one who will not come. They are going to the store, are not they?. Yahya are not good boy\n"
     ]
    }
   ],
   "source": [
    "text = \"\"\"\n",
    "Yahya's playing football.I haven't seen Mary, but I'm sure she'll be at the party.\n",
    "She's not the only one who won't come.\n",
    "They're going to the store, aren't they?. Yahya ain't good boy\n",
    "\"\"\"\n",
    "print('Original Text: ',text)\n",
    "print()\n",
    "print('Expanded text:\\n',expand_contractions(text))"
   ]
  },
  {
   "cell_type": "code",
   "execution_count": 54,
   "metadata": {
    "id": "-xnbHuJSbfiy"
   },
   "outputs": [],
   "source": [
    "# Remove stop words to reduce the dimensionality size and improve total performance\n",
    "def stopWordsRemoval(sentence):\n",
    "    filtered_sentence = []\n",
    "    # Tokenize the sentence\n",
    "    sentence =  word_tokenize(sentence)\n",
    "    for w in sentence:\n",
    "        if w not in stop_words:\n",
    "            # Only append non stop words\n",
    "            filtered_sentence.append(w)\n",
    "\n",
    "    return ' '.join(filtered_sentence)"
   ]
  },
  {
   "cell_type": "code",
   "execution_count": 55,
   "metadata": {
    "colab": {
     "base_uri": "https://localhost:8080/"
    },
    "id": "3XHb0jO0bfiy",
    "outputId": "487129a6-acf5-4bc4-f37d-22206561e28a"
   },
   "outputs": [
    {
     "name": "stdout",
     "output_type": "stream",
     "text": [
      "Original Text:  \n",
      "Yahya is a good boy.\n",
      "Soliman and Taha love ML.\n",
      "Gamal or Fatma were playing an yoga.\n",
      "\n",
      "\n",
      "After stop wors removal:\n",
      " Yahya good boy . Soliman Taha love ML . Gamal Fatma playing yoga .\n"
     ]
    }
   ],
   "source": [
    "text = \"\"\"\n",
    "Yahya is a good boy.\n",
    "Soliman and Taha love ML.\n",
    "Gamal or Fatma were playing an yoga.\n",
    "\"\"\"\n",
    "print('Original Text: ',text)\n",
    "print()\n",
    "print('After stop wors removal:\\n',stopWordsRemoval(text))"
   ]
  },
  {
   "cell_type": "code",
   "execution_count": 56,
   "metadata": {
    "id": "T8DkAx5tbfiz"
   },
   "outputs": [],
   "source": [
    "# This function will be used to help in lemmatization to get pos tag\n",
    "def get_wordnet_pos(treebank_tag):\n",
    "    if treebank_tag.startswith('J'):\n",
    "        return wordnet.ADJ\n",
    "    elif treebank_tag.startswith('V'):\n",
    "        return wordnet.VERB\n",
    "    elif treebank_tag.startswith('N'):\n",
    "        return wordnet.NOUN\n",
    "    elif treebank_tag.startswith('R'):\n",
    "        return wordnet.ADV\n",
    "    else:\n",
    "        return wordnet.NOUN"
   ]
  },
  {
   "cell_type": "code",
   "execution_count": 57,
   "metadata": {
    "id": "SAzQPDIkbfiz"
   },
   "outputs": [],
   "source": [
    "# For lemmatization (Lemmatization is similar to stemming but it brings context to the words)\n",
    "def lemmatization(sentence):\n",
    "    filtered_sentence = []\n",
    "    sentence = word_tokenize(sentence)\n",
    "    sentence = pos_tag(sentence)\n",
    "    tokenCount = len(sentence)\n",
    "    for i in range (0, tokenCount):\n",
    "        t = sentence[i][0] # The token\n",
    "        p = sentence[i][1] # The pos tag\n",
    "        p = get_wordnet_pos(p)\n",
    "        l = lemmatizer.lemmatize(t, pos = p)\n",
    "        filtered_sentence.append(l)\n",
    "\n",
    "    return ' '.join(filtered_sentence)"
   ]
  },
  {
   "cell_type": "code",
   "execution_count": 58,
   "metadata": {
    "colab": {
     "base_uri": "https://localhost:8080/",
     "height": 35
    },
    "id": "BeBKBkzdbfi0",
    "outputId": "56e627f7-7017-4bb3-f0a8-ab364f2bf3a3"
   },
   "outputs": [
    {
     "data": {
      "text/plain": [
       "'be be play saw have'"
      ]
     },
     "execution_count": 58,
     "metadata": {},
     "output_type": "execute_result"
    }
   ],
   "source": [
    "lemmatization('is are playing saw had')"
   ]
  },
  {
   "cell_type": "markdown",
   "metadata": {
    "id": "Bvba5sOTy4b0"
   },
   "source": [
    "**Final preprocessin and cleaning function**"
   ]
  },
  {
   "cell_type": "code",
   "execution_count": 59,
   "metadata": {
    "id": "fI63PnZNy9hp"
   },
   "outputs": [],
   "source": [
    "def text_preprocessing(text):\n",
    "    # Matches Twitter handles.\n",
    "    text = re.sub(\"(@[A-Za-z0-9]+)\", \" \",text)\n",
    "\n",
    "    # Matches URLs.\n",
    "    text = re.sub(\"(\\w+:\\/\\/\\S+)\", \" \",text)\n",
    "\n",
    "    # Matches Hashtags\n",
    "    text = re.sub(r'#\\w*', ' ' , text)\n",
    "\n",
    "    # Expand contradictions\n",
    "    text = expand_contractions(text)\n",
    "\n",
    "    # Convert text to lowercase\n",
    "    text = text.lower()\n",
    "\n",
    "    # Remove stop words like are, is, has ...\n",
    "    text = stopWordsRemoval(text)\n",
    "\n",
    "    # Lemmatization brings context to the words\n",
    "    text = lemmatization(text)\n",
    "\n",
    "    # Matches special characters letters, spaces, and tabs.\n",
    "    text = re.sub(\"([^A-Za-z \\t])\", \" \",text)\n",
    "\n",
    "    # Remove extra white spaces\n",
    "    text = \" \".join(text.split())\n",
    "\n",
    "    return text"
   ]
  },
  {
   "cell_type": "code",
   "execution_count": 60,
   "metadata": {
    "colab": {
     "base_uri": "https://localhost:8080/"
    },
    "id": "9oJmDaAhy-4T",
    "outputId": "dc80f155-05f5-4eac-9c03-f43d9a8f538d"
   },
   "outputs": [
    {
     "name": "stdout",
     "output_type": "stream",
     "text": [
      "Original Text:  \n",
      "Yahya's playing football. I'd played too much.\n",
      "I'm love 😂🤣❤😘👀 my wife.\n",
      "I haven't seen Mary, but I'm sure she'll be at the party.\n",
      "he visit https://www.google.com/ too much.\n",
      "#BFCAI #CS\n",
      "@Soliman @Fatma @Gamal @Taha\n",
      "\n",
      "\n",
      "Preprocessed text:\n",
      " yahya play football would play much love wife see mary sure party visit much\n"
     ]
    }
   ],
   "source": [
    "text = \"\"\"\n",
    "Yahya's playing football. I'd played too much.\n",
    "I'm love 😂🤣❤😘👀 my wife.\n",
    "I haven't seen Mary, but I'm sure she'll be at the party.\n",
    "he visit https://www.google.com/ too much.\n",
    "#BFCAI #CS\n",
    "@Soliman @Fatma @Gamal @Taha\n",
    "\"\"\"\n",
    "\n",
    "print('Original Text: ',text)\n",
    "print()\n",
    "print('Preprocessed text:\\n',text_preprocessing(text))"
   ]
  },
  {
   "cell_type": "markdown",
   "metadata": {
    "id": "5gFr89eIzvPl"
   },
   "source": [
    "**Apply the text preprocessing on the dataset**"
   ]
  },
  {
   "cell_type": "code",
   "execution_count": 61,
   "metadata": {
    "id": "2VQjNHT4z1gT"
   },
   "outputs": [],
   "source": [
    "proc_dateset['review'] = proc_dateset['review'].apply(text_preprocessing)"
   ]
  },
  {
   "cell_type": "code",
   "execution_count": 62,
   "metadata": {
    "id": "kizfwdFl0UlZ"
   },
   "outputs": [],
   "source": [
    "# Remove empty reviews entries after processing\n",
    "proc_dateset2 = proc_dateset[proc_dateset.review != '']\n",
    "\n",
    "# Remove duplications in reviews and their coresponding sentiment\n",
    "proc_dateset2 = proc_dateset2.drop_duplicates(subset=['review'])\n",
    "\n",
    "# Reste the indicies\n",
    "proc_dateset2.reset_index(drop=True, inplace=True)"
   ]
  },
  {
   "cell_type": "code",
   "execution_count": 63,
   "metadata": {
    "colab": {
     "base_uri": "https://localhost:8080/",
     "height": 419
    },
    "id": "xFN6b7331e_I",
    "outputId": "28e79bff-8325-4e14-b04b-a898b91ede8d"
   },
   "outputs": [
    {
     "data": {
      "text/html": [
       "<div>\n",
       "<style scoped>\n",
       "    .dataframe tbody tr th:only-of-type {\n",
       "        vertical-align: middle;\n",
       "    }\n",
       "\n",
       "    .dataframe tbody tr th {\n",
       "        vertical-align: top;\n",
       "    }\n",
       "\n",
       "    .dataframe thead th {\n",
       "        text-align: right;\n",
       "    }\n",
       "</style>\n",
       "<table border=\"1\" class=\"dataframe\">\n",
       "  <thead>\n",
       "    <tr style=\"text-align: right;\">\n",
       "      <th></th>\n",
       "      <th>Unnamed: 0</th>\n",
       "      <th>review</th>\n",
       "      <th>sentiment</th>\n",
       "    </tr>\n",
       "  </thead>\n",
       "  <tbody>\n",
       "    <tr>\n",
       "      <th>0</th>\n",
       "      <td>0</td>\n",
       "      <td>one reviewer mention watch oz episode hook rig...</td>\n",
       "      <td>1</td>\n",
       "    </tr>\n",
       "    <tr>\n",
       "      <th>1</th>\n",
       "      <td>1</td>\n",
       "      <td>wonderful little production br br film techniq...</td>\n",
       "      <td>1</td>\n",
       "    </tr>\n",
       "    <tr>\n",
       "      <th>2</th>\n",
       "      <td>2</td>\n",
       "      <td>think wonderful way spend time hot summer week...</td>\n",
       "      <td>1</td>\n",
       "    </tr>\n",
       "    <tr>\n",
       "      <th>3</th>\n",
       "      <td>3</td>\n",
       "      <td>basically family little boy jake think zombie ...</td>\n",
       "      <td>0</td>\n",
       "    </tr>\n",
       "    <tr>\n",
       "      <th>4</th>\n",
       "      <td>4</td>\n",
       "      <td>petter mattei love time money visually stunnin...</td>\n",
       "      <td>1</td>\n",
       "    </tr>\n",
       "    <tr>\n",
       "      <th>...</th>\n",
       "      <td>...</td>\n",
       "      <td>...</td>\n",
       "      <td>...</td>\n",
       "    </tr>\n",
       "    <tr>\n",
       "      <th>6995</th>\n",
       "      <td>6995</td>\n",
       "      <td>comparison original series inevitable shame di...</td>\n",
       "      <td>0</td>\n",
       "    </tr>\n",
       "    <tr>\n",
       "      <th>6996</th>\n",
       "      <td>6996</td>\n",
       "      <td>meet peter houseman rock star genetic professo...</td>\n",
       "      <td>0</td>\n",
       "    </tr>\n",
       "    <tr>\n",
       "      <th>6997</th>\n",
       "      <td>6997</td>\n",
       "      <td>enjoy show year use dream able see share grand...</td>\n",
       "      <td>1</td>\n",
       "    </tr>\n",
       "    <tr>\n",
       "      <th>6998</th>\n",
       "      <td>6998</td>\n",
       "      <td>awe wow prepare blow away uncanny way ninja wa...</td>\n",
       "      <td>0</td>\n",
       "    </tr>\n",
       "    <tr>\n",
       "      <th>6999</th>\n",
       "      <td>6999</td>\n",
       "      <td>find robin williams vehicle mildly amuse best ...</td>\n",
       "      <td>0</td>\n",
       "    </tr>\n",
       "  </tbody>\n",
       "</table>\n",
       "<p>7000 rows × 3 columns</p>\n",
       "</div>"
      ],
      "text/plain": [
       "      Unnamed: 0                                             review  sentiment\n",
       "0              0  one reviewer mention watch oz episode hook rig...          1\n",
       "1              1  wonderful little production br br film techniq...          1\n",
       "2              2  think wonderful way spend time hot summer week...          1\n",
       "3              3  basically family little boy jake think zombie ...          0\n",
       "4              4  petter mattei love time money visually stunnin...          1\n",
       "...          ...                                                ...        ...\n",
       "6995        6995  comparison original series inevitable shame di...          0\n",
       "6996        6996  meet peter houseman rock star genetic professo...          0\n",
       "6997        6997  enjoy show year use dream able see share grand...          1\n",
       "6998        6998  awe wow prepare blow away uncanny way ninja wa...          0\n",
       "6999        6999  find robin williams vehicle mildly amuse best ...          0\n",
       "\n",
       "[7000 rows x 3 columns]"
      ]
     },
     "execution_count": 63,
     "metadata": {},
     "output_type": "execute_result"
    }
   ],
   "source": [
    "proc_dateset2"
   ]
  },
  {
   "cell_type": "markdown",
   "metadata": {
    "id": "TI1nRveU45Ao"
   },
   "source": [
    "**Encode sentiment labels**"
   ]
  },
  {
   "cell_type": "code",
   "execution_count": 64,
   "metadata": {
    "id": "_arxEQd948iY"
   },
   "outputs": [],
   "source": [
    "# Make object from label encoder class\n",
    "lbl_encoder = LabelEncoder()\n",
    "# Fit the encoder on the sentiment\n",
    "lbl_encoder.fit(proc_dateset2['sentiment'])\n",
    "# Transform sentiment classes to 0,1\n",
    "proc_dateset2['sentiment'] = lbl_encoder.transform(proc_dateset2['sentiment'])"
   ]
  },
  {
   "cell_type": "code",
   "execution_count": 65,
   "metadata": {
    "colab": {
     "base_uri": "https://localhost:8080/"
    },
    "id": "GkVBu9Wx5luR",
    "outputId": "9a0b3be3-473d-4293-e15a-d509b1dfcb2a"
   },
   "outputs": [
    {
     "data": {
      "text/plain": [
       "array([0, 1])"
      ]
     },
     "execution_count": 65,
     "metadata": {},
     "output_type": "execute_result"
    }
   ],
   "source": [
    "lbl_encoder.classes_"
   ]
  },
  {
   "cell_type": "markdown",
   "metadata": {
    "id": "alxURCRd57ZC"
   },
   "source": [
    "0 -> negative classe\n",
    "\n",
    "1 -> postive class"
   ]
  },
  {
   "cell_type": "code",
   "execution_count": 66,
   "metadata": {
    "colab": {
     "base_uri": "https://localhost:8080/",
     "height": 419
    },
    "id": "hjnjDUEQ5hkR",
    "outputId": "9f675d40-d7dc-4d9d-9a99-9b308ea99fcc"
   },
   "outputs": [
    {
     "data": {
      "text/html": [
       "<div>\n",
       "<style scoped>\n",
       "    .dataframe tbody tr th:only-of-type {\n",
       "        vertical-align: middle;\n",
       "    }\n",
       "\n",
       "    .dataframe tbody tr th {\n",
       "        vertical-align: top;\n",
       "    }\n",
       "\n",
       "    .dataframe thead th {\n",
       "        text-align: right;\n",
       "    }\n",
       "</style>\n",
       "<table border=\"1\" class=\"dataframe\">\n",
       "  <thead>\n",
       "    <tr style=\"text-align: right;\">\n",
       "      <th></th>\n",
       "      <th>Unnamed: 0</th>\n",
       "      <th>review</th>\n",
       "      <th>sentiment</th>\n",
       "    </tr>\n",
       "  </thead>\n",
       "  <tbody>\n",
       "    <tr>\n",
       "      <th>0</th>\n",
       "      <td>0</td>\n",
       "      <td>one reviewer mention watch oz episode hook rig...</td>\n",
       "      <td>1</td>\n",
       "    </tr>\n",
       "    <tr>\n",
       "      <th>1</th>\n",
       "      <td>1</td>\n",
       "      <td>wonderful little production br br film techniq...</td>\n",
       "      <td>1</td>\n",
       "    </tr>\n",
       "    <tr>\n",
       "      <th>2</th>\n",
       "      <td>2</td>\n",
       "      <td>think wonderful way spend time hot summer week...</td>\n",
       "      <td>1</td>\n",
       "    </tr>\n",
       "    <tr>\n",
       "      <th>3</th>\n",
       "      <td>3</td>\n",
       "      <td>basically family little boy jake think zombie ...</td>\n",
       "      <td>0</td>\n",
       "    </tr>\n",
       "    <tr>\n",
       "      <th>4</th>\n",
       "      <td>4</td>\n",
       "      <td>petter mattei love time money visually stunnin...</td>\n",
       "      <td>1</td>\n",
       "    </tr>\n",
       "    <tr>\n",
       "      <th>...</th>\n",
       "      <td>...</td>\n",
       "      <td>...</td>\n",
       "      <td>...</td>\n",
       "    </tr>\n",
       "    <tr>\n",
       "      <th>6995</th>\n",
       "      <td>6995</td>\n",
       "      <td>comparison original series inevitable shame di...</td>\n",
       "      <td>0</td>\n",
       "    </tr>\n",
       "    <tr>\n",
       "      <th>6996</th>\n",
       "      <td>6996</td>\n",
       "      <td>meet peter houseman rock star genetic professo...</td>\n",
       "      <td>0</td>\n",
       "    </tr>\n",
       "    <tr>\n",
       "      <th>6997</th>\n",
       "      <td>6997</td>\n",
       "      <td>enjoy show year use dream able see share grand...</td>\n",
       "      <td>1</td>\n",
       "    </tr>\n",
       "    <tr>\n",
       "      <th>6998</th>\n",
       "      <td>6998</td>\n",
       "      <td>awe wow prepare blow away uncanny way ninja wa...</td>\n",
       "      <td>0</td>\n",
       "    </tr>\n",
       "    <tr>\n",
       "      <th>6999</th>\n",
       "      <td>6999</td>\n",
       "      <td>find robin williams vehicle mildly amuse best ...</td>\n",
       "      <td>0</td>\n",
       "    </tr>\n",
       "  </tbody>\n",
       "</table>\n",
       "<p>7000 rows × 3 columns</p>\n",
       "</div>"
      ],
      "text/plain": [
       "      Unnamed: 0                                             review  sentiment\n",
       "0              0  one reviewer mention watch oz episode hook rig...          1\n",
       "1              1  wonderful little production br br film techniq...          1\n",
       "2              2  think wonderful way spend time hot summer week...          1\n",
       "3              3  basically family little boy jake think zombie ...          0\n",
       "4              4  petter mattei love time money visually stunnin...          1\n",
       "...          ...                                                ...        ...\n",
       "6995        6995  comparison original series inevitable shame di...          0\n",
       "6996        6996  meet peter houseman rock star genetic professo...          0\n",
       "6997        6997  enjoy show year use dream able see share grand...          1\n",
       "6998        6998  awe wow prepare blow away uncanny way ninja wa...          0\n",
       "6999        6999  find robin williams vehicle mildly amuse best ...          0\n",
       "\n",
       "[7000 rows x 3 columns]"
      ]
     },
     "execution_count": 66,
     "metadata": {},
     "output_type": "execute_result"
    }
   ],
   "source": [
    "proc_dateset2"
   ]
  },
  {
   "cell_type": "code",
   "execution_count": 67,
   "metadata": {
    "id": "e8cP17cr6_SK"
   },
   "outputs": [],
   "source": [
    "# To get most frequent words in every class\n",
    "def top_words(data):\n",
    "        words_list = data.split(' ')\n",
    "        counts = Counter(words_list)\n",
    "        top_words = counts.most_common(20)\n",
    "        length_of_list = len(top_words)\n",
    "        index = np.arange(length_of_list)\n",
    "        print(top_words)\n",
    "        count_values = [x[1] for x in top_words]\n",
    "        count_words = [x[0] for x in top_words]\n",
    "        fig = plt.figure(figsize = (16,9))\n",
    "        bar_width = 0.4\n",
    "        rects1 = plt.bar(index, count_values)\n",
    "        plt.xticks(index + bar_width, count_words, rotation=0)\n",
    "        plt.show()"
   ]
  },
  {
   "cell_type": "code",
   "execution_count": 68,
   "metadata": {
    "colab": {
     "base_uri": "https://localhost:8080/",
     "height": 640
    },
    "id": "TrM3yqjT7OYi",
    "outputId": "32225d4f-58b6-4ec2-d996-8897ab7251bc"
   },
   "outputs": [
    {
     "name": "stdout",
     "output_type": "stream",
     "text": [
      "Top words in Positive Sentiment\n",
      "[('br', 13699), ('film', 6921), ('movie', 6440), ('one', 3944), ('see', 3019), ('make', 2870), ('like', 2714), ('good', 2370), ('time', 2274), ('get', 2262), ('well', 2156), ('great', 1983), ('story', 1983), ('character', 1954), ('would', 1952), ('watch', 1847), ('go', 1808), ('show', 1750), ('love', 1660), ('think', 1560)]\n"
     ]
    },
    {
     "data": {
      "image/png": "[encoded data removed]",
      "text/plain": [
       "<Figure size 1600x900 with 1 Axes>"
      ]
     },
     "metadata": {},
     "output_type": "display_data"
    }
   ],
   "source": [
    "train_positive_sentiment = proc_dateset2[proc_dateset2.sentiment == 1]\n",
    "positive_words = ' '.join(train_positive_sentiment['review'])\n",
    "print(\"Top words in Positive Sentiment\")\n",
    "top_words(positive_words)"
   ]
  },
  {
   "cell_type": "code",
   "execution_count": 69,
   "metadata": {
    "colab": {
     "base_uri": "https://localhost:8080/",
     "height": 640
    },
    "id": "kJlGK50z7f08",
    "outputId": "a7b8f0ff-3474-4043-e60d-6537336127ce"
   },
   "outputs": [
    {
     "name": "stdout",
     "output_type": "stream",
     "text": [
      "Top words in Negative Sentiment\n",
      "[('br', 15057), ('movie', 8385), ('film', 6315), ('one', 3754), ('make', 3627), ('like', 3466), ('bad', 3022), ('get', 2878), ('see', 2799), ('would', 2613), ('good', 2565), ('even', 2281), ('go', 2268), ('time', 2133), ('watch', 2040), ('character', 1984), ('well', 1750), ('look', 1728), ('think', 1726), ('really', 1704)]\n"
     ]
    },
    {
     "data": {
      "image/png": "[encoded data removed]",
      "text/plain": [
       "<Figure size 1600x900 with 1 Axes>"
      ]
     },
     "metadata": {},
     "output_type": "display_data"
    }
   ],
   "source": [
    "train_negative_sentiment = proc_dateset2[proc_dateset2.sentiment == 0]\n",
    "negative_words = ' '.join(train_negative_sentiment['review'])\n",
    "print(\"Top words in Negative Sentiment\")\n",
    "top_words(negative_words)"
   ]
  },
  {
   "cell_type": "code",
   "execution_count": 70,
   "metadata": {
    "id": "RGpA0xcw6FFp"
   },
   "outputs": [],
   "source": [
    "# Saving the dataframe\n",
    "proc_dateset2.to_csv('Processes-dataset.csv')"
   ]
  },
  {
   "cell_type": "markdown",
   "metadata": {
    "id": "hD6D1czj9nVO"
   },
   "source": [
    "**Read the processed dataset**"
   ]
  },
  {
   "cell_type": "code",
   "execution_count": 71,
   "metadata": {
    "colab": {
     "base_uri": "https://localhost:8080/",
     "height": 419
    },
    "id": "bRMXaSqr9qDs",
    "outputId": "8d43d2fa-d305-44be-ad5c-5ef07cc85137"
   },
   "outputs": [
    {
     "data": {
      "text/html": [
       "<div>\n",
       "<style scoped>\n",
       "    .dataframe tbody tr th:only-of-type {\n",
       "        vertical-align: middle;\n",
       "    }\n",
       "\n",
       "    .dataframe tbody tr th {\n",
       "        vertical-align: top;\n",
       "    }\n",
       "\n",
       "    .dataframe thead th {\n",
       "        text-align: right;\n",
       "    }\n",
       "</style>\n",
       "<table border=\"1\" class=\"dataframe\">\n",
       "  <thead>\n",
       "    <tr style=\"text-align: right;\">\n",
       "      <th></th>\n",
       "      <th>Unnamed: 0</th>\n",
       "      <th>review</th>\n",
       "      <th>sentiment</th>\n",
       "    </tr>\n",
       "  </thead>\n",
       "  <tbody>\n",
       "    <tr>\n",
       "      <th>0</th>\n",
       "      <td>0</td>\n",
       "      <td>one reviewer mention watch oz episode hook rig...</td>\n",
       "      <td>1</td>\n",
       "    </tr>\n",
       "    <tr>\n",
       "      <th>1</th>\n",
       "      <td>1</td>\n",
       "      <td>wonderful little production br br film techniq...</td>\n",
       "      <td>1</td>\n",
       "    </tr>\n",
       "    <tr>\n",
       "      <th>2</th>\n",
       "      <td>2</td>\n",
       "      <td>think wonderful way spend time hot summer week...</td>\n",
       "      <td>1</td>\n",
       "    </tr>\n",
       "    <tr>\n",
       "      <th>3</th>\n",
       "      <td>3</td>\n",
       "      <td>basically family little boy jake think zombie ...</td>\n",
       "      <td>0</td>\n",
       "    </tr>\n",
       "    <tr>\n",
       "      <th>4</th>\n",
       "      <td>4</td>\n",
       "      <td>petter mattei love time money visually stunnin...</td>\n",
       "      <td>1</td>\n",
       "    </tr>\n",
       "    <tr>\n",
       "      <th>...</th>\n",
       "      <td>...</td>\n",
       "      <td>...</td>\n",
       "      <td>...</td>\n",
       "    </tr>\n",
       "    <tr>\n",
       "      <th>6995</th>\n",
       "      <td>6995</td>\n",
       "      <td>comparison original series inevitable shame di...</td>\n",
       "      <td>0</td>\n",
       "    </tr>\n",
       "    <tr>\n",
       "      <th>6996</th>\n",
       "      <td>6996</td>\n",
       "      <td>meet peter houseman rock star genetic professo...</td>\n",
       "      <td>0</td>\n",
       "    </tr>\n",
       "    <tr>\n",
       "      <th>6997</th>\n",
       "      <td>6997</td>\n",
       "      <td>enjoy show year use dream able see share grand...</td>\n",
       "      <td>1</td>\n",
       "    </tr>\n",
       "    <tr>\n",
       "      <th>6998</th>\n",
       "      <td>6998</td>\n",
       "      <td>awe wow prepare blow away uncanny way ninja wa...</td>\n",
       "      <td>0</td>\n",
       "    </tr>\n",
       "    <tr>\n",
       "      <th>6999</th>\n",
       "      <td>6999</td>\n",
       "      <td>find robin williams vehicle mildly amuse best ...</td>\n",
       "      <td>0</td>\n",
       "    </tr>\n",
       "  </tbody>\n",
       "</table>\n",
       "<p>7000 rows × 3 columns</p>\n",
       "</div>"
      ],
      "text/plain": [
       "      Unnamed: 0                                             review  sentiment\n",
       "0              0  one reviewer mention watch oz episode hook rig...          1\n",
       "1              1  wonderful little production br br film techniq...          1\n",
       "2              2  think wonderful way spend time hot summer week...          1\n",
       "3              3  basically family little boy jake think zombie ...          0\n",
       "4              4  petter mattei love time money visually stunnin...          1\n",
       "...          ...                                                ...        ...\n",
       "6995        6995  comparison original series inevitable shame di...          0\n",
       "6996        6996  meet peter houseman rock star genetic professo...          0\n",
       "6997        6997  enjoy show year use dream able see share grand...          1\n",
       "6998        6998  awe wow prepare blow away uncanny way ninja wa...          0\n",
       "6999        6999  find robin williams vehicle mildly amuse best ...          0\n",
       "\n",
       "[7000 rows x 3 columns]"
      ]
     },
     "execution_count": 71,
     "metadata": {},
     "output_type": "execute_result"
    }
   ],
   "source": [
    "proc_dateset2 = pd.read_csv('Processes-dataset.csv')\n",
    "\n",
    "proc_dateset2.drop(proc_dateset2.columns[0], axis=1, inplace=True)\n",
    "\n",
    "proc_dateset2"
   ]
  },
  {
   "cell_type": "markdown",
   "metadata": {
    "id": "l5ULeVpv_p44"
   },
   "source": [
    "**Split data to train, test and validate**"
   ]
  },
  {
   "cell_type": "code",
   "execution_count": 72,
   "metadata": {
    "id": "DenV8Ef59Juu"
   },
   "outputs": [],
   "source": [
    "x, x_test, y, y_test = train_test_split(\n",
    "    proc_dateset2['review'],\n",
    "    proc_dateset2['sentiment'],\n",
    "    test_size=0.2,\n",
    "    random_state= 42\n",
    ")"
   ]
  },
  {
   "cell_type": "code",
   "execution_count": 73,
   "metadata": {
    "id": "nhTEOPfY9WzF"
   },
   "outputs": [],
   "source": [
    "x_train, x_val, y_train, y_val = train_test_split(\n",
    "    x,\n",
    "    y,\n",
    "    test_size=0.33,\n",
    "    random_state= 42\n",
    ")"
   ]
  },
  {
   "cell_type": "markdown",
   "metadata": {
    "id": "sSEhfqsMAMz5"
   },
   "source": [
    "**Get number of rows for each subset**"
   ]
  },
  {
   "cell_type": "code",
   "execution_count": 74,
   "metadata": {
    "colab": {
     "base_uri": "https://localhost:8080/"
    },
    "id": "sX5s5ErmAI0H",
    "outputId": "e014d392-125e-4dbf-c52d-640d81630d80"
   },
   "outputs": [
    {
     "name": "stdout",
     "output_type": "stream",
     "text": [
      "3752\n",
      "1848\n",
      "1400\n"
     ]
    }
   ],
   "source": [
    "print(x_train.shape[0])\n",
    "print(x_val.shape[0])\n",
    "print(x_test.shape[0])"
   ]
  },
  {
   "cell_type": "code",
   "execution_count": 75,
   "metadata": {
    "colab": {
     "base_uri": "https://localhost:8080/",
     "height": 521
    },
    "id": "L5Ans6ZNAWhv",
    "outputId": "0e54d193-f7be-4100-9d04-7ec82f2be445"
   },
   "outputs": [
    {
     "data": {
      "image/png": "[encoded data removed]",
      "text/plain": [
       "<Figure size 1000x600 with 1 Axes>"
      ]
     },
     "metadata": {},
     "output_type": "display_data"
    }
   ],
   "source": [
    "# Map the numerical labels to corresponding categories\n",
    "classes = {0: 'Negative', 1: 'Positive'}\n",
    "\n",
    "labels_description = np.array([classes[label] for label in y_train])\n",
    "\n",
    "# Count the occurrences of each class in the 'labels_description' array\n",
    "class_counts = np.unique(labels_description, return_counts=True)\n",
    "\n",
    "# Create a pie chart\n",
    "plt.figure(figsize=(10, 6))\n",
    "plt.pie(class_counts[1], labels=class_counts[0], autopct='%1.1f%%')\n",
    "plt.title('Class Distribution')\n",
    "plt.show()"
   ]
  },
  {
   "cell_type": "markdown",
   "metadata": {
    "id": "fhNMFFtl6cVK"
   },
   "source": [
    "**Encode text using tfidf**"
   ]
  },
  {
   "cell_type": "code",
   "execution_count": 76,
   "metadata": {
    "id": "ssvYRmNu6xPa"
   },
   "outputs": [],
   "source": [
    "# Create the TF-IDF vectorizer\n",
    "tfidf_vectorizer = TfidfVectorizer()\n",
    "\n",
    "# Fit and transform the train data\n",
    "tf_x_train = tfidf_vectorizer.fit_transform(x_train)"
   ]
  },
  {
   "cell_type": "code",
   "execution_count": 77,
   "metadata": {
    "colab": {
     "base_uri": "https://localhost:8080/"
    },
    "id": "And7jy_L-2j4",
    "outputId": "ee5586a2-76b9-4f86-d21b-c5e366ab940c"
   },
   "outputs": [
    {
     "name": "stdout",
     "output_type": "stream",
     "text": [
      "Number of features is:\n",
      " (27142,)\n"
     ]
    }
   ],
   "source": [
    "print('Number of features is:\\n',tfidf_vectorizer.get_feature_names_out().shape)"
   ]
  },
  {
   "cell_type": "code",
   "execution_count": 78,
   "metadata": {
    "id": "5Ce8l3IiSN4Y"
   },
   "outputs": [],
   "source": [
    "# Transform validation and test data\n",
    "tf_x_val = tfidf_vectorizer.transform(x_val)\n",
    "tf_x_test = tfidf_vectorizer.transform(x_test)"
   ]
  },
  {
   "cell_type": "markdown",
   "metadata": {
    "id": "rM4KOQFZBcVR"
   },
   "source": [
    "## <font color='orange'> ***Train models***</font>"
   ]
  },
  {
   "cell_type": "code",
   "execution_count": 57,
   "metadata": {
    "id": "SKh0X5pLCGEa"
   },
   "outputs": [],
   "source": [
    "def evaluate_model(model, x_train, y_train, x_val, y_val):\n",
    "    model.fit(tf_x_train, y_train)\n",
    "    y_pred_train = model.predict(tf_x_train)\n",
    "    y_pred_val = model.predict(tf_x_val)\n",
    "    acc_train = accuracy_score(y_train, y_pred_train)\n",
    "    acc_val = accuracy_score(y_val, y_pred_val)\n",
    "    return acc_train, acc_val"
   ]
  },
  {
   "cell_type": "markdown",
   "metadata": {
    "id": "IRZzuXApd4EJ"
   },
   "source": [
    "**Fatma models**"
   ]
  },
  {
   "cell_type": "code",
   "execution_count": null,
   "metadata": {
    "id": "zaMayVDu9o3S"
   },
   "outputs": [],
   "source": [
    "from sklearn.naive_bayes import GaussianNB\n",
    "from sklearn.naive_bayes import MultinomialNB\n",
    "from sklearn.linear_model import LogisticRegression\n",
    "from sklearn.ensemble import RandomForestClassifier\n",
    "from sklearn.ensemble import GradientBoostingClassifier\n",
    "from sklearn.svm import SVC\n",
    "from xgboost import XGBClassifier\n",
    "from sklearn.neighbors import KNeighborsClassifier\n",
    "from sklearn.metrics import accuracy_score"
   ]
  },
  {
   "cell_type": "code",
   "execution_count": 66,
   "metadata": {
    "colab": {
     "base_uri": "https://localhost:8080/"
    },
    "id": "ocQbwfyMHNJP",
    "outputId": "1cdb21a5-b282-46ca-b401-49bf7069656f"
   },
   "outputs": [
    {
     "data": {
      "text/plain": [
       "(0.9981343283582089, 0.8187229437229437)"
      ]
     },
     "execution_count": 66,
     "metadata": {},
     "output_type": "execute_result"
    }
   ],
   "source": [
    "model = RandomForestClassifier(max_depth=50,n_estimators=50)\n",
    "evaluate_model(model, tf_x_train, y_train, tf_x_val, y_val)"
   ]
  },
  {
   "cell_type": "code",
   "execution_count": 67,
   "metadata": {
    "colab": {
     "base_uri": "https://localhost:8080/"
    },
    "id": "twIYFACnHNmA",
    "outputId": "b267b67d-62d6-4c53-ff77-6313717fdf6c"
   },
   "outputs": [
    {
     "data": {
      "text/plain": [
       "(0.9821428571428571, 0.8841991341991342)"
      ]
     },
     "execution_count": 67,
     "metadata": {},
     "output_type": "execute_result"
    }
   ],
   "source": [
    "model = SVC(kernel='linear')\n",
    "evaluate_model(model, tf_x_train, y_train, tf_x_val, y_val)"
   ]
  },
  {
   "cell_type": "code",
   "execution_count": 68,
   "metadata": {
    "colab": {
     "base_uri": "https://localhost:8080/"
    },
    "id": "PKY7Fwk2HNzb",
    "outputId": "11bad854-3d5f-4d9a-a0e3-86f5a92f85cf"
   },
   "outputs": [
    {
     "data": {
      "text/plain": [
       "(0.9976012793176973, 0.8262987012987013)"
      ]
     },
     "execution_count": 68,
     "metadata": {},
     "output_type": "execute_result"
    }
   ],
   "source": [
    "model = XGBClassifier()\n",
    "evaluate_model(model, tf_x_train, y_train, tf_x_val, y_val)"
   ]
  },
  {
   "cell_type": "code",
   "execution_count": null,
   "metadata": {
    "id": "8DWPAN6rLC26"
   },
   "outputs": [],
   "source": [
    "model = LogisticRegression()\n",
    "evaluate_model(model, tf_x_train, y_train, tf_x_val, y_val)"
   ]
  },
  {
   "cell_type": "code",
   "execution_count": null,
   "metadata": {
    "id": "_fOtFBuiLhYS"
   },
   "outputs": [],
   "source": [
    "model = KNeighborsClassifier()\n",
    "evaluate_model(model, tf_x_train, y_train, tf_x_val, y_val)"
   ]
  },
  {
   "cell_type": "code",
   "execution_count": 69,
   "metadata": {
    "colab": {
     "base_uri": "https://localhost:8080/",
     "height": 402
    },
    "id": "jepe7TtZ3i_8",
    "outputId": "d945ff3f-a3d3-466c-cfa7-565f5c19784f"
   },
   "outputs": [
    {
     "ename": "ValueError",
     "evalue": "ignored",
     "output_type": "error",
     "traceback": [
      "\u001b[0;31m---------------------------------------------------------------------------\u001b[0m",
      "\u001b[0;31mValueError\u001b[0m                                Traceback (most recent call last)",
      "\u001b[0;32m<ipython-input-69-9a3c1af94ca6>\u001b[0m in \u001b[0;36m<cell line: 10>\u001b[0;34m()\u001b[0m\n\u001b[1;32m     10\u001b[0m \u001b[0;32mfor\u001b[0m \u001b[0mmodel\u001b[0m \u001b[0;32min\u001b[0m \u001b[0mmodels_list\u001b[0m\u001b[0;34m:\u001b[0m\u001b[0;34m\u001b[0m\u001b[0;34m\u001b[0m\u001b[0m\n\u001b[1;32m     11\u001b[0m     \u001b[0;31m# evaluate the model and calculate acc_train and acc_val\u001b[0m\u001b[0;34m\u001b[0m\u001b[0;34m\u001b[0m\u001b[0m\n\u001b[0;32m---> 12\u001b[0;31m     acc_train, acc_val = evaluate_model(\n\u001b[0m\u001b[1;32m     13\u001b[0m         \u001b[0mmodel\u001b[0m\u001b[0;34m,\u001b[0m\u001b[0;34m\u001b[0m\u001b[0;34m\u001b[0m\u001b[0m\n\u001b[1;32m     14\u001b[0m         \u001b[0mtf_x_train\u001b[0m\u001b[0;34m,\u001b[0m\u001b[0;34m\u001b[0m\u001b[0;34m\u001b[0m\u001b[0m\n",
      "\u001b[0;32m<ipython-input-57-c7b7d425f422>\u001b[0m in \u001b[0;36mevaluate_model\u001b[0;34m(model, x_train, y_train, x_val, y_val)\u001b[0m\n\u001b[1;32m      2\u001b[0m     \u001b[0mmodel\u001b[0m\u001b[0;34m.\u001b[0m\u001b[0mfit\u001b[0m\u001b[0;34m(\u001b[0m\u001b[0mtf_x_train\u001b[0m\u001b[0;34m,\u001b[0m \u001b[0my_train\u001b[0m\u001b[0;34m)\u001b[0m\u001b[0;34m\u001b[0m\u001b[0;34m\u001b[0m\u001b[0m\n\u001b[1;32m      3\u001b[0m     \u001b[0my_pred_train\u001b[0m \u001b[0;34m=\u001b[0m \u001b[0mmodel\u001b[0m\u001b[0;34m.\u001b[0m\u001b[0mpredict\u001b[0m\u001b[0;34m(\u001b[0m\u001b[0mtf_x_train\u001b[0m\u001b[0;34m)\u001b[0m\u001b[0;34m\u001b[0m\u001b[0;34m\u001b[0m\u001b[0m\n\u001b[0;32m----> 4\u001b[0;31m     \u001b[0my_pred_val\u001b[0m \u001b[0;34m=\u001b[0m \u001b[0mmodel\u001b[0m\u001b[0;34m.\u001b[0m\u001b[0mpredict\u001b[0m\u001b[0;34m(\u001b[0m\u001b[0mtf_x_val\u001b[0m\u001b[0;34m)\u001b[0m\u001b[0;34m\u001b[0m\u001b[0;34m\u001b[0m\u001b[0m\n\u001b[0m\u001b[1;32m      5\u001b[0m     \u001b[0macc_train\u001b[0m \u001b[0;34m=\u001b[0m \u001b[0maccuracy_score\u001b[0m\u001b[0;34m(\u001b[0m\u001b[0my_train\u001b[0m\u001b[0;34m,\u001b[0m \u001b[0my_pred_train\u001b[0m\u001b[0;34m)\u001b[0m\u001b[0;34m\u001b[0m\u001b[0;34m\u001b[0m\u001b[0m\n\u001b[1;32m      6\u001b[0m     \u001b[0macc_val\u001b[0m \u001b[0;34m=\u001b[0m \u001b[0maccuracy_score\u001b[0m\u001b[0;34m(\u001b[0m\u001b[0my_val\u001b[0m\u001b[0;34m,\u001b[0m \u001b[0my_pred_val\u001b[0m\u001b[0;34m)\u001b[0m\u001b[0;34m\u001b[0m\u001b[0;34m\u001b[0m\u001b[0m\n",
      "\u001b[0;32m/usr/local/lib/python3.10/dist-packages/sklearn/neighbors/_classification.py\u001b[0m in \u001b[0;36mpredict\u001b[0;34m(self, X)\u001b[0m\n\u001b[1;32m    595\u001b[0m         \"\"\"\n\u001b[1;32m    596\u001b[0m \u001b[0;34m\u001b[0m\u001b[0m\n\u001b[0;32m--> 597\u001b[0;31m         \u001b[0mprobs\u001b[0m \u001b[0;34m=\u001b[0m \u001b[0mself\u001b[0m\u001b[0;34m.\u001b[0m\u001b[0mpredict_proba\u001b[0m\u001b[0;34m(\u001b[0m\u001b[0mX\u001b[0m\u001b[0;34m)\u001b[0m\u001b[0;34m\u001b[0m\u001b[0;34m\u001b[0m\u001b[0m\n\u001b[0m\u001b[1;32m    598\u001b[0m         \u001b[0mclasses_\u001b[0m \u001b[0;34m=\u001b[0m \u001b[0mself\u001b[0m\u001b[0;34m.\u001b[0m\u001b[0mclasses_\u001b[0m\u001b[0;34m\u001b[0m\u001b[0;34m\u001b[0m\u001b[0m\n\u001b[1;32m    599\u001b[0m \u001b[0;34m\u001b[0m\u001b[0m\n",
      "\u001b[0;32m/usr/local/lib/python3.10/dist-packages/sklearn/neighbors/_classification.py\u001b[0m in \u001b[0;36mpredict_proba\u001b[0;34m(self, X)\u001b[0m\n\u001b[1;32m    654\u001b[0m \u001b[0;34m\u001b[0m\u001b[0m\n\u001b[1;32m    655\u001b[0m         \u001b[0;32mif\u001b[0m \u001b[0mself\u001b[0m\u001b[0;34m.\u001b[0m\u001b[0moutlier_label_\u001b[0m \u001b[0;32mis\u001b[0m \u001b[0;32mNone\u001b[0m \u001b[0;32mand\u001b[0m \u001b[0moutliers\u001b[0m\u001b[0;34m.\u001b[0m\u001b[0msize\u001b[0m \u001b[0;34m>\u001b[0m \u001b[0;36m0\u001b[0m\u001b[0;34m:\u001b[0m\u001b[0;34m\u001b[0m\u001b[0;34m\u001b[0m\u001b[0m\n\u001b[0;32m--> 656\u001b[0;31m             raise ValueError(\n\u001b[0m\u001b[1;32m    657\u001b[0m                 \u001b[0;34m\"No neighbors found for test samples %r, \"\u001b[0m\u001b[0;34m\u001b[0m\u001b[0;34m\u001b[0m\u001b[0m\n\u001b[1;32m    658\u001b[0m                 \u001b[0;34m\"you can try using larger radius, \"\u001b[0m\u001b[0;34m\u001b[0m\u001b[0;34m\u001b[0m\u001b[0m\n",
      "\u001b[0;31mValueError\u001b[0m: No neighbors found for test samples array([   0,    1,    2, ..., 1845, 1846, 1847]), you can try using larger radius, giving a label for outliers, or considering removing them from your dataset."
     ]
    }
   ],
   "source": [
    "# Storing models in a list to loop through them\n",
    "models_list = [\n",
    "    RadiusNeighborsClassifier(),\n",
    "    MultinomialNB(),\n",
    "    LogisticRegression(penalty='l2',max_iter=500,C=1,random_state=42),\n",
    "    KNeighborsClassifier(),\n",
    "]\n",
    "\n",
    "# for each model\n",
    "for model in models_list:\n",
    "    # evaluate the model and calculate acc_train and acc_val\n",
    "    acc_train, acc_val = evaluate_model(\n",
    "        model,\n",
    "        tf_x_train,\n",
    "        y_train,\n",
    "        tf_x_val,\n",
    "        y_val\n",
    "    )\n",
    "    # Display model name with acc_train and acc_val\n",
    "    print(model.__class__.__name__)\n",
    "    print(acc_train, acc_val)\n",
    "    print('--------------------------')"
   ]
  },
  {
   "cell_type": "markdown",
   "metadata": {
    "id": "lMT8zmZxlREC"
   },
   "source": [
    "**Taha Model**\n"
   ]
  },
  {
   "cell_type": "markdown",
   "metadata": {},
   "source": [
    "Naive_Bayes"
   ]
  },
  {
   "cell_type": "code",
   "execution_count": 79,
   "metadata": {},
   "outputs": [
    {
     "name": "stdout",
     "output_type": "stream",
     "text": [
      "0.9517590618336887\n"
     ]
    }
   ],
   "source": [
    "from sklearn.naive_bayes import MultinomialNB\n",
    "naive_bayes_model=MultinomialNB()\n",
    "naive_bayes_model.fit(tf_x_train, y_train)\n",
    "y_pred=naive_bayes_model.predict(tf_x_train)\n",
    "print(accuracy_score(y_train, y_pred))"
   ]
  },
  {
   "cell_type": "markdown",
   "metadata": {},
   "source": [
    "Logistic Regression"
   ]
  },
  {
   "cell_type": "code",
   "execution_count": 84,
   "metadata": {},
   "outputs": [
    {
     "name": "stdout",
     "output_type": "stream",
     "text": [
      "0.945362473347548\n"
     ]
    }
   ],
   "source": [
    "from sklearn.linear_model import LogisticRegression\n",
    "LR = LogisticRegression()\n",
    "LR.fit(tf_x_train,y_train)\n",
    "y_pred = LR.predict(tf_x_train)\n",
    "print(accuracy_score(y_train, y_pred))"
   ]
  },
  {
   "cell_type": "markdown",
   "metadata": {},
   "source": [
    "Random Forest Classifier"
   ]
  },
  {
   "cell_type": "code",
   "execution_count": 88,
   "metadata": {},
   "outputs": [
    {
     "name": "stdout",
     "output_type": "stream",
     "text": [
      "1.0\n"
     ]
    }
   ],
   "source": [
    "from sklearn.ensemble import RandomForestClassifier\n",
    "rfc=RandomForestClassifier()\n",
    "rfc.fit(tf_x_train, y_train)\n",
    "y_pred=rfc.predict(tf_x_train)\n",
    "print(accuracy_score(y_train, y_pred))"
   ]
  },
  {
   "cell_type": "markdown",
   "metadata": {},
   "source": [
    "NearestCentroid"
   ]
  },
  {
   "cell_type": "code",
   "execution_count": 89,
   "metadata": {},
   "outputs": [
    {
     "name": "stdout",
     "output_type": "stream",
     "text": [
      "0.820362473347548\n"
     ]
    }
   ],
   "source": [
    "from sklearn.neighbors import NearestCentroid\n",
    "KNN = NearestCentroid()\n",
    "KNN.fit(tf_x_train, y_train)\n",
    "y_pred=KNN.predict(tf_x_train)\n",
    "print(accuracy_score(y_train, y_pred))"
   ]
  },
  {
   "cell_type": "markdown",
   "metadata": {},
   "source": [
    "XGB"
   ]
  },
  {
   "cell_type": "code",
   "execution_count": 93,
   "metadata": {},
   "outputs": [
    {
     "name": "stderr",
     "output_type": "stream",
     "text": [
      "/Users/mac/anaconda3/envs/myd/lib/python3.11/site-packages/xgboost/data.py:427: FutureWarning: is_sparse is deprecated and will be removed in a future version. Check `isinstance(dtype, pd.SparseDtype)` instead.\n",
      "  if is_sparse(data):\n"
     ]
    },
    {
     "name": "stdout",
     "output_type": "stream",
     "text": [
      "1.0\n"
     ]
    }
   ],
   "source": [
    "from xgboost import XGBClassifier\n",
    "XGB = XGBClassifier()\n",
    "XGB.fit(tf_x_train, y_train)\n",
    "y_pred=XGB.predict(tf_x_train)\n",
    "print(accuracy_score(y_train, y_pred))"
   ]
  },
  {
   "cell_type": "markdown",
   "metadata": {},
   "source": [
    "Support Vector"
   ]
  },
  {
   "cell_type": "code",
   "execution_count": 95,
   "metadata": {},
   "outputs": [
    {
     "name": "stdout",
     "output_type": "stream",
     "text": [
      "1.0\n"
     ]
    }
   ],
   "source": [
    "from sklearn import svm\n",
    "S1 = svm.SVC()\n",
    "S1.fit(tf_x_train, y_train)\n",
    "y_pred=S1.predict(tf_x_train)\n",
    "print(accuracy_score(y_train, y_pred))"
   ]
  }
 ],
 "metadata": {
  "colab": {
   "gpuType": "T4",
   "provenance": []
  },
  "kaggle": {
   "accelerator": "none",
   "dataSources": [
    {
     "datasetId": 134715,
     "sourceId": 320111,
     "sourceType": "datasetVersion"
    }
   ],
   "isGpuEnabled": false,
   "isInternetEnabled": true,
   "language": "python",
   "sourceType": "notebook"
  },
  "kernelspec": {
   "display_name": "Python 3 (ipykernel)",
   "language": "python",
   "name": "python3"
  },
  "language_info": {
   "codemirror_mode": {
    "name": "ipython",
    "version": 3
   },
   "file_extension": ".py",
   "mimetype": "text/x-python",
   "name": "python",
   "nbconvert_exporter": "python",
   "pygments_lexer": "ipython3",
   "version": "3.9.12"
  }
 },
 "nbformat": 4,
 "nbformat_minor": 1
}
